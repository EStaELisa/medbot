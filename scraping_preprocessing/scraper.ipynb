{
 "cells": [
  {
   "cell_type": "code",
   "execution_count": null,
   "metadata": {},
   "outputs": [
    {
     "name": "stdout",
     "output_type": "stream",
     "text": [
      "daten bereits gespeichert\n"
     ]
    }
   ],
   "source": [
    "#Alle Links sammeln\n",
    "\n",
    "import requests\n",
    "from bs4 import BeautifulSoup\n",
    "import json\n",
    "import pandas as pd\n",
    "\n",
    "def get_diseases():    \n",
    "    url = \"https://www.nhsinform.scot/illnesses-and-conditions/a-to-z/\"\n",
    "    \n",
    "    # Browser-ähnliche Headers\n",
    "    #https://www.zenrows.com/blog/user-agent-web-scraping#how-to\n",
    "    headers = {\n",
    "        'User-Agent': 'Mozilla/5.0 (Windows NT 10.0; Win64; x64) AppleWebKit/537.36 (KHTML, like Gecko) Chrome/91.0.4472.124 Safari/537.36'\n",
    "    }\n",
    "    \n",
    "    #soup ist ein Objekt, das den gesamten HTML-Code der Website enthält, library BeautifulSoup\n",
    "    response = requests.get(url, headers=headers) #html anfordern\n",
    "    soup = BeautifulSoup(response.text, 'html.parser')\n",
    "    \n",
    "    #alle krankheiten hier speichern\n",
    "    diseases = []\n",
    "    \n",
    "    for section in soup.find_all('div', class_='az_list_indivisual'):\n",
    "        # buchstaben durchsuchen über h2\n",
    "        letter = section.find('h2').text\n",
    "        \n",
    "        #links suchen\n",
    "        for link in section.find_all('a'):\n",
    "            disease = {\n",
    "                'letter': letter,\n",
    "                'name': link.text.strip(),\n",
    "                'url': link['href']\n",
    "            }\n",
    "            diseases.append(disease)\n",
    "            print(f\"Gefunden: {disease['name']}\")\n",
    "    \n",
    "    return diseases\n",
    "\n",
    "def save_diseases(diseases):\n",
    "\n",
    "    #csv\n",
    "    df = pd.DataFrame(diseases)\n",
    "    df.to_csv('data/nhs_diseases.csv', index=False, encoding='utf-8')\n",
    "    print(\"Krankheiten als CSV gespeichert in: data/nhs_diseases.csv\")\n",
    "    \n",
    "    #infos printen\n",
    "    letters = df['letter'].unique()\n",
    "    print(f\"\\nStatistik:\")\n",
    "    print(f\"Insgesamt {len(diseases)} Krankheiten gefunden\")\n",
    "    print(f\"Verteilt über {len(letters)} Buchstaben\")\n",
    "    for letter in letters:\n",
    "        count = len(df[df['letter'] == letter])\n",
    "        print(f\"Buchstabe {letter}: {count} Krankheiten\")\n",
    "\n",
    "import os\n",
    "\n",
    "if __name__ == \"__main__\":\n",
    "    if not os.path.exists('data/nhs_diseases.csv'):\n",
    "        diseases = get_diseases()\n",
    "        save_diseases(diseases)\n",
    "    else:\n",
    "        print(\"daten bereits gespeichert\")"
   ]
  }
 ],
 "metadata": {
  "kernelspec": {
   "display_name": "base",
   "language": "python",
   "name": "python3"
  },
  "language_info": {
   "codemirror_mode": {
    "name": "ipython",
    "version": 3
   },
   "file_extension": ".py",
   "mimetype": "text/x-python",
   "name": "python",
   "nbconvert_exporter": "python",
   "pygments_lexer": "ipython3",
   "version": "3.9.20"
  }
 },
 "nbformat": 4,
 "nbformat_minor": 2
}
